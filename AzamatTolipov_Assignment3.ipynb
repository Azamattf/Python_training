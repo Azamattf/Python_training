{
 "cells": [
  {
   "cell_type": "code",
   "execution_count": 4,
   "metadata": {},
   "outputs": [
    {
     "name": "stdout",
     "output_type": "stream",
     "text": [
      "60 Fahrenheit is equal to 15.56 Celcius\n"
     ]
    }
   ],
   "source": [
    "# This function converts temperature quantity from Fahrenheit to Celcius\n",
    "# (32°F − 32) × 5/9\n",
    "\n",
    "def f_to_c(f):\n",
    "    c=round((f-32)*(5/9),2)\n",
    "    print(f\"{f} Fahrenheit is equal to {c} Celcius\")\n",
    "          \n",
    "f_to_c(60)\n"
   ]
  },
  {
   "cell_type": "code",
   "execution_count": 22,
   "metadata": {},
   "outputs": [
    {
     "name": "stdout",
     "output_type": "stream",
     "text": [
      "Tax amount for your activity for the previous year is $745.35.\n"
     ]
    }
   ],
   "source": [
    "# This function calculates tax to be paid based on total income, non-taxable expenses, and the tax rate, all in USD.\n",
    "\n",
    "def tax(total_income,expenses,tax_rate):\n",
    "    if total_income>=expenses:\n",
    "        tax_amount=round((total_income-expenses)*tax_rate,2)\n",
    "        print(f\"Tax amount for your activity for the previous year is ${tax_amount}.\")\n",
    "    else:\n",
    "        print(\"You need to declare bankrupcy :(\")\n",
    "\n",
    "tax(10008,5039,0.15)"
   ]
  },
  {
   "cell_type": "code",
   "execution_count": 106,
   "metadata": {},
   "outputs": [
    {
     "name": "stdout",
     "output_type": "stream",
     "text": [
      "Congratulations and Welcome! \n",
      "\n",
      "Dear James Clark,\n",
      "\n",
      "We are happy to see you in our team. Please use the following temporary login information to register and use our system: \n",
      "\n",
      "Your login:\tj_clark \n",
      "Your password:\tjkR2_L \n",
      "\n",
      "Please do not forget to change this password on your first login.\n",
      "\n",
      "\n",
      "You are subscribed to the Business 365 Plan and it will be valid till 2022-04-28.\n"
     ]
    }
   ],
   "source": [
    "# This function generates an email text using some personal information.\n",
    "\n",
    "def email(name,surname,login,password,subscription):\n",
    "    if not (subscription==\"Basic 30\" or subscription==\"Business 365\"):\n",
    "        print(\"\\n\\nPlease indicate a correct Subscription Plan, either Basic 30 or Business 365.\")\n",
    "    else:\n",
    "        from datetime import date, timedelta\n",
    "        today = date.today()\n",
    "        print(f\"Congratulations and Welcome! \\n\\nDear {name} {surname},\\n\\nWe are happy to see you in our team. Please use the following temporary login information to register and use our system: \\n\\nYour login:\\t{login} \\nYour password:\\t{password} \\n\\nPlease do not forget to change this password on your first login.\")\n",
    "        if subscription==\"Basic 30\":\n",
    "            validity=today+timedelta(days=30)\n",
    "        else:\n",
    "            validity=today+timedelta(days=365)\n",
    "        print(f\"\\n\\nYou are subscribed to the {subscription} Plan and it will be valid till {validity}.\")\n",
    "    \n",
    "email(\"James\",\"Clark\",\"j_clark\",\"jkR2_L\",\"Business 365\")"
   ]
  },
  {
   "cell_type": "code",
   "execution_count": 120,
   "metadata": {},
   "outputs": [
    {
     "name": "stdout",
     "output_type": "stream",
     "text": [
      "6.02\n"
     ]
    }
   ],
   "source": [
    "# This function finds the arithmetic mean of its arguments:\n",
    "\n",
    "def mean(*args):\n",
    "    a=round(sum(args)/len(args),2)\n",
    "    print(a)\n",
    "    \n",
    "mean(5.235,3.235,5,10.6)"
   ]
  }
 ],
 "metadata": {
  "kernelspec": {
   "display_name": "Python 3",
   "language": "python",
   "name": "python3"
  },
  "language_info": {
   "codemirror_mode": {
    "name": "ipython",
    "version": 3
   },
   "file_extension": ".py",
   "mimetype": "text/x-python",
   "name": "python",
   "nbconvert_exporter": "python",
   "pygments_lexer": "ipython3",
   "version": "3.7.0"
  }
 },
 "nbformat": 4,
 "nbformat_minor": 2
}
