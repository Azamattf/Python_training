{
 "cells": [
  {
   "cell_type": "markdown",
   "metadata": {},
   "source": [
    "# Hello Admin"
   ]
  },
  {
   "cell_type": "markdown",
   "metadata": {},
   "source": [
    "#### Make a list of five or more usernames, including the name ‘admin’. Imagine you are writing code that will print a greeting to each user after they log in to a website. Loop through the list, and print a greeting to each user:\n",
    "##### • If the username is ‘admin’, print a special greeting, such as Hello admin, would you like to see a status report?\n",
    "##### • Otherwise, print a generic greeting, such as Hello Javon, thank you for logging in again."
   ]
  },
  {
   "cell_type": "markdown",
   "metadata": {},
   "source": [
    "#### 1. Creating a user list"
   ]
  },
  {
   "cell_type": "code",
   "execution_count": 1,
   "metadata": {
    "scrolled": true
   },
   "outputs": [
    {
     "name": "stdout",
     "output_type": "stream",
     "text": [
      "Please enter user name (1/8): Jake\n",
      "Please enter user name (2/8): Isaac\n",
      "Please enter user name (3/8): George\n",
      "Please enter user name (4/8): Jane\n",
      "Please enter user name (5/8): Susan\n",
      "Please enter user name (6/8): Simon\n",
      "Please enter user name (7/8): Bob\n",
      "Please enter user name (8/8): Mary\n"
     ]
    }
   ],
   "source": [
    "users = []\n",
    "\n",
    "for i in range(8):\n",
    "    i=i+1\n",
    "    user = input(f\"Please enter user name ({i}/8): \")\n",
    "    users.append(user)"
   ]
  },
  {
   "cell_type": "markdown",
   "metadata": {},
   "source": [
    "#### 2. Apointing an admin"
   ]
  },
  {
   "cell_type": "code",
   "execution_count": 5,
   "metadata": {},
   "outputs": [
    {
     "name": "stdout",
     "output_type": "stream",
     "text": [
      "\n",
      "Please appoint an admin out of those registered above: Jane\n",
      "\n",
      "Admin appointed: Jane.\n"
     ]
    }
   ],
   "source": [
    "admin = input(\"\\nPlease appoint an admin out of those registered above: \")\n",
    "\n",
    "while admin not in users:\n",
    "    print(\"User not found.\")\n",
    "    admin = input(\"\\nPlease appoint an admin out of those registered above: \")\n",
    "print(f\"\\nAdmin appointed: {admin}.\")"
   ]
  },
  {
   "cell_type": "markdown",
   "metadata": {},
   "source": [
    "#### 3. Greeting an admin/user"
   ]
  },
  {
   "cell_type": "code",
   "execution_count": 9,
   "metadata": {},
   "outputs": [
    {
     "name": "stdout",
     "output_type": "stream",
     "text": [
      "Please log in using your username: Clark\n",
      "User not found.\n",
      "\n",
      "Please log in using your username: Jane\n",
      "\n",
      "Hello admin, would you like to see a status report?\n"
     ]
    }
   ],
   "source": [
    "login=input(\"Please log in using your username: \")\n",
    "\n",
    "while login not in users:\n",
    "    print(\"User not found.\")\n",
    "    login = input(\"\\nPlease log in using your username: \")\n",
    "    \n",
    "if login==admin:\n",
    "    print(\"\\nHello admin, would you like to see a status report?\")\n",
    "else:\n",
    "    print(f\"\\nHello {login}, thank you for logging in again.\")"
   ]
  }
 ],
 "metadata": {
  "kernelspec": {
   "display_name": "Python 3",
   "language": "python",
   "name": "python3"
  },
  "language_info": {
   "codemirror_mode": {
    "name": "ipython",
    "version": 3
   },
   "file_extension": ".py",
   "mimetype": "text/x-python",
   "name": "python",
   "nbconvert_exporter": "python",
   "pygments_lexer": "ipython3",
   "version": "3.7.0"
  }
 },
 "nbformat": 4,
 "nbformat_minor": 2
}
