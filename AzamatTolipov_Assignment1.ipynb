{
 "cells": [
  {
   "cell_type": "code",
   "execution_count": 2,
   "metadata": {},
   "outputs": [
    {
     "name": "stdout",
     "output_type": "stream",
     "text": [
      "Excited to get back to Python!\n",
      "I first tried Python in 2018\n"
     ]
    }
   ],
   "source": [
    "print(\"Excited to get back to Python!\")\n",
    "print(\"I first tried Python in\",2018)"
   ]
  },
  {
   "cell_type": "code",
   "execution_count": 15,
   "metadata": {},
   "outputs": [
    {
     "name": "stdout",
     "output_type": "stream",
     "text": [
      "I earned my first post-secondary degree in 2015.\n",
      "So I was 22 years old then.\n"
     ]
    }
   ],
   "source": [
    "current_year=2021\n",
    "graduation=2015\n",
    "age=28\n",
    "print(f\"I earned my first post-secondary degree in {graduation}.\")\n",
    "print(\"So I was\",age-(current_year-graduation),\"years old then.\")"
   ]
  },
  {
   "cell_type": "code",
   "execution_count": 5,
   "metadata": {},
   "outputs": [
    {
     "name": "stdout",
     "output_type": "stream",
     "text": [
      "Let's talk about Azamat Tolipov. You can simply call him Azamat.\n",
      "He's 170 cm (5 ft 7 in) tall.\n",
      "He weighs 59 kg (130 pounds).\n",
      "He's got dark eyes and dark hair and athletic appearance.\n"
     ]
    }
   ],
   "source": [
    "#All input goes here\n",
    "\n",
    "name_full = \"Azamat Tolipov\"\n",
    "name = \"Azamat\"\n",
    "age = 30 # I could be lying\n",
    "height = 170 # cm\n",
    "weight = 59 # kg\n",
    "\n",
    "eyes = 'dark'\n",
    "hair = 'dark'\n",
    "physique = 'athletic'\n",
    "\n",
    "#Conversion rates\n",
    "ft_to_cm = 30.48   # foot to cm conversion\n",
    "ft_to_in = 12      # foot to inch conversion\n",
    "kg_to_lbs = 2.205  # kg to lbs conversion\n",
    "\n",
    "#Deriving imperial measurements rounded as integers\n",
    "height_ft = height/ft_to_cm\n",
    "h_in = round((height_ft-int(height_ft))*ft_to_in)\n",
    "height_imperial = f\"{int(height_ft)} ft {h_in} in\" #feet and inches\n",
    "\n",
    "weight_lbs = round(weight*kg_to_lbs) # lbs\n",
    "\n",
    "#Print\n",
    "print(f\"Let's talk about {name_full}. You can simply call him {name}.\")\n",
    "print(f\"He's {height} cm ({height_imperial}) tall.\")\n",
    "print(f\"He weighs {weight} kg ({weight_lbs} pounds).\")\n",
    "print(f\"He's got {eyes} eyes and {hair} hair and {physique} appearance.\")\n"
   ]
  },
  {
   "cell_type": "code",
   "execution_count": null,
   "metadata": {},
   "outputs": [],
   "source": []
  }
 ],
 "metadata": {
  "kernelspec": {
   "display_name": "Python 3",
   "language": "python",
   "name": "python3"
  },
  "language_info": {
   "codemirror_mode": {
    "name": "ipython",
    "version": 3
   },
   "file_extension": ".py",
   "mimetype": "text/x-python",
   "name": "python",
   "nbconvert_exporter": "python",
   "pygments_lexer": "ipython3",
   "version": "3.7.0"
  }
 },
 "nbformat": 4,
 "nbformat_minor": 2
}
