{
 "cells": [
  {
   "cell_type": "markdown",
   "metadata": {},
   "source": [
    "# Checking Usernames"
   ]
  },
  {
   "cell_type": "markdown",
   "metadata": {},
   "source": [
    "#### Do the following to create a program to ensure that everyone has a unique username.\n",
    "#### • Make a list of five or more usernames called current_users.\n",
    "#### • Make another list of five usernames called new_users. Make sure one or two of the new usernames are also in the current_users list.\n",
    "#### • Loop through the new_users list to see if each new username has already been used. If it has, print a message that the person will need to enter a new username. If a username has not been used, print a message saying that the username is available.\n",
    "#### • Make sure your comparison is case insensitive. If ‘Javlon’ has been used, ‘JAVLON’ should not be accepted."
   ]
  },
  {
   "cell_type": "markdown",
   "metadata": {},
   "source": [
    "#### 1. Creating lists of current and new users"
   ]
  },
  {
   "cell_type": "code",
   "execution_count": 25,
   "metadata": {},
   "outputs": [],
   "source": [
    "users_current = ['akmal', 'Alexandra', 'Tim', 'Ragnar', 'Bjorn', 'Alma','Tanya']\n",
    "users_new = ['Isaac','Davron','Veronica','Kostya','RAGNAR','Tanya','Jack','Akmal']"
   ]
  },
  {
   "cell_type": "markdown",
   "metadata": {},
   "source": [
    "#### 2. Case-insensitive comparison of new users and current users"
   ]
  },
  {
   "cell_type": "code",
   "execution_count": 28,
   "metadata": {},
   "outputs": [
    {
     "name": "stdout",
     "output_type": "stream",
     "text": [
      "New users suggested: 8\n",
      "1. Username Isaac is available.\n",
      "2. Username Davron is available.\n",
      "3. Username Veronica is available.\n",
      "4. Username Kostya is available.\n",
      "5. Username RAGNAR already exists. Please enter a new username.\n",
      "6. Username Tanya already exists. Please enter a new username.\n",
      "7. Username Jack is available.\n",
      "8. Username Akmal already exists. Please enter a new username.\n"
     ]
    }
   ],
   "source": [
    "print(\"New users suggested:\",len(users_new))\n",
    "\n",
    "# Making all elements of users_current lower case for comparison.\n",
    "for i in range(len(users_current)):\n",
    "    users_current[i]=str.casefold(users_current[i])\n",
    "\n",
    "# Checking whether each new username has already been used.\n",
    "num = 1\n",
    "for j in users_new:\n",
    "    if str.casefold(j) in users_current:\n",
    "        print(f\"{num}. Username {j} already exists. Please enter a new username.\")\n",
    "    else:\n",
    "        print(f\"{num}. Username {j} is available.\")\n",
    "    num = num + 1"
   ]
  }
 ],
 "metadata": {
  "kernelspec": {
   "display_name": "Python 3",
   "language": "python",
   "name": "python3"
  },
  "language_info": {
   "codemirror_mode": {
    "name": "ipython",
    "version": 3
   },
   "file_extension": ".py",
   "mimetype": "text/x-python",
   "name": "python",
   "nbconvert_exporter": "python",
   "pygments_lexer": "ipython3",
   "version": "3.7.0"
  }
 },
 "nbformat": 4,
 "nbformat_minor": 2
}
